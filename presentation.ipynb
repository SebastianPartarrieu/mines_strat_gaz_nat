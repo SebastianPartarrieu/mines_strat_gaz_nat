{
 "cells": [
  {
   "cell_type": "markdown",
   "metadata": {
    "slideshow": {
     "slide_type": "slide"
    }
   },
   "source": [
    "# Modèle de valorisation marché des stockages de gaz naturel \n",
    "\n",
    "#### _S. Partarrieu, Pa. Plessix, Y. Tchouboukoff_\n",
    "##### Encadrant : _P. Abiven_\n",
    "UE 22 - Python \n",
    "<center> <img src='img/e_cube.jpg' width = 100><img src='img/Mines_paristech-PSL.png' width = 300 align = center></center>"
   ]
  },
  {
   "cell_type": "markdown",
   "metadata": {
    "slideshow": {
     "slide_type": "slide"
    }
   },
   "source": [
    "### Plan de l'étude\n",
    "\n",
    "1. Le problème du stockage du gaz naturel\n",
    "\n",
    "2. Scraping\n",
    "\n",
    "3. Modèle de prédiction\n",
    "\n",
    "4. Optimisation de l'utilisation du stockage"
   ]
  },
  {
   "cell_type": "markdown",
   "metadata": {
    "slideshow": {
     "slide_type": "slide"
    }
   },
   "source": [
    "### Le circuit du gaz naturel \n",
    "<br/>\n",
    "\n",
    "<center> <img src='img/circuit_gaz.png'></center>"
   ]
  },
  {
   "cell_type": "markdown",
   "metadata": {
    "slideshow": {
     "slide_type": "fragment"
    }
   },
   "source": [
    "#### Problématiques \n",
    "\n",
    "- Infrastructures lourdes\n",
    "- Marché très reglementé\n",
    "- Prix très variable\n"
   ]
  },
  {
   "cell_type": "markdown",
   "metadata": {
    "slideshow": {
     "slide_type": "notes"
    }
   },
   "source": [
    "### Posture\n",
    "\n",
    "Création d'un outil d'information et d'aide à la décision pour la **valorisation** d'un stockage.\n",
    "\n",
    "- Etude du process de bout en bout\n",
    "- Point de vue de la réponse optimale à une prévision"
   ]
  },
  {
   "cell_type": "markdown",
   "metadata": {
    "slideshow": {
     "slide_type": "subslide"
    }
   },
   "source": [
    "### Plan d'attaque\n",
    "<br/>\n",
    "<center> <img src='img/plan.png'></center>"
   ]
  },
  {
   "cell_type": "markdown",
   "metadata": {
    "slideshow": {
     "slide_type": "slide"
    }
   },
   "source": [
    "### Web Scraper\n",
    "\n",
    "- A partir du site Powernext.\n",
    "- **Problème majeur** : rien d'enregistré sur le DOM !\n",
    "- Utilisation du module _Selenium_.\n",
    "\n",
    "- Base de données construite par itération.\n",
    "\n",
    "- Problème EventListener.\n"
   ]
  },
  {
   "cell_type": "markdown",
   "metadata": {
    "slideshow": {
     "slide_type": "subslide"
    }
   },
   "source": [
    "#### Prix forward - Facile ...\n",
    "<br/>\n",
    "<center> <img src='img/ex_future.png' ></center>"
   ]
  },
  {
   "cell_type": "markdown",
   "metadata": {
    "slideshow": {
     "slide_type": "subslide"
    }
   },
   "source": [
    "#### Prix spot - Ca se corse ... \n",
    "\n",
    "<br/>\n",
    "<center> <img src='img/ex_spot.png' ></center>"
   ]
  },
  {
   "cell_type": "code",
   "execution_count": null,
   "metadata": {
    "slideshow": {
     "slide_type": "fragment"
    }
   },
   "outputs": [],
   "source": [
    "! python strat_gaz/scrap/scrap_saver.py -p spot -s PEG"
   ]
  },
  {
   "cell_type": "markdown",
   "metadata": {
    "slideshow": {
     "slide_type": "slide"
    }
   },
   "source": [
    "### Diffusion de prix"
   ]
  },
  {
   "cell_type": "markdown",
   "metadata": {
    "slideshow": {
     "slide_type": "slide"
    }
   },
   "source": [
    "### Optimisation de Stockage\n",
    "#### Modélisation\n",
    "\n",
    "- Paramètres\n",
    "- Contraintes\n",
    "\n",
    "\n"
   ]
  },
  {
   "cell_type": "markdown",
   "metadata": {
    "slideshow": {
     "slide_type": "subslide"
    }
   },
   "source": [
    "#### Optimisation\n",
    "\n",
    "- Pour résoudre on maximise le profit  sur toutes les stratégies possibles\n",
    "- `scipy.minimize`, méthode `SLSQP`\n",
    "\n",
    "<center><img src='img/opti_year.png' > </center>"
   ]
  },
  {
   "cell_type": "markdown",
   "metadata": {
    "slideshow": {
     "slide_type": "subslide"
    }
   },
   "source": [
    "#### Benchmark\n",
    "\n",
    "Comparaison du temps de calcul en fonction de la plage de temps considérée.\n",
    "<center><img src='img/benchmark.png' ></center>"
   ]
  },
  {
   "cell_type": "code",
   "execution_count": 5,
   "metadata": {},
   "outputs": [],
   "source": [
    "# lancer un fichier demo.py\n",
    "# montre le stockage et ses caractéristiques\n",
    "# montre le déroulement d'une otimisatioin et la sortie de l'optimisatoin"
   ]
  },
  {
   "cell_type": "markdown",
   "metadata": {
    "slideshow": {
     "slide_type": "slide"
    }
   },
   "source": [
    "#### Conclusion\n",
    "\n",
    "Livraison d'un outil permettant de voir de bout en bout la valeur d'un stockage\n",
    "\n",
    "#### Limites : \n",
    "- Surévaluation de la valeur, car pour un trader pas de connaissance du futur. \n",
    "    - Raisonnement arbre de décisions (Régressions)\n",
    "    - Algorithme d'optimisation Stochastique\n",
    "    \n",
    "    \n",
    "<center><img src='img/red.png' > </center>"
   ]
  },
  {
   "cell_type": "code",
   "execution_count": 6,
   "metadata": {},
   "outputs": [
    {
     "name": "stdout",
     "output_type": "stream",
     "text": [
      "Figure(640x480)\n",
      "Figure(640x480)\n",
      "Figure(640x480)\n"
     ]
    }
   ],
   "source": []
  },
  {
   "cell_type": "code",
   "execution_count": null,
   "metadata": {},
   "outputs": [],
   "source": []
  }
 ],
 "metadata": {
  "celltoolbar": "Diaporama",
  "kernelspec": {
   "display_name": "Python 3",
   "language": "python",
   "name": "python3"
  },
  "language_info": {
   "codemirror_mode": {
    "name": "ipython",
    "version": 3
   },
   "file_extension": ".py",
   "mimetype": "text/x-python",
   "name": "python",
   "nbconvert_exporter": "python",
   "pygments_lexer": "ipython3",
   "version": "3.7.0"
  }
 },
 "nbformat": 4,
 "nbformat_minor": 4
}
